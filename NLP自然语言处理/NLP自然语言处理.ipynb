{
 "cells": [
  {
   "cell_type": "code",
   "execution_count": null,
   "metadata": {},
   "outputs": [],
   "source": [
    "import numpy as np # linear algebra\n",
    "import pandas as pd # data processing, CSV file I/O (e.g. pd.read_csv)"
   ]
  },
  {
   "cell_type": "code",
   "execution_count": null,
   "metadata": {},
   "outputs": [],
   "source": [
    "import pandas as pd\n",
    "import numpy as np\n",
    "import matplotlib.pyplot as plt\n",
    "import nltk\n",
    "import seaborn as sns\n",
    "from nltk.corpus import stopwords\n",
    "from nltk.tokenize import word_tokenize\n",
    "from sklearn.model_selection import train_test_split\n",
    "from sklearn.preprocessing import LabelBinarizer\n",
    "from keras.preprocessing.text import Tokenizer\n",
    "from keras.preprocessing.sequence import pad_sequences\n",
    "from sklearn.feature_extraction.text import TfidfVectorizer\n",
    "from keras.layers import SpatialDropout1D\n",
    "from keras.utils import to_categorical\n",
    "from sklearn.metrics import classification_report\n",
    "from sklearn.metrics import roc_auc_score\n",
    "from sklearn.metrics import roc_curve\n",
    "from sklearn.metrics import precision_recall_curve\n",
    "from sklearn.model_selection import GridSearchCV\n",
    "from keras.models import Sequential\n",
    "from keras.layers import Dense\n",
    "from keras.layers import LSTM\n",
    "from keras.layers.embeddings import Embedding\n",
    "from keras.preprocessing import sequence\n",
    "from sklearn.feature_selection import RFE\n",
    "import re\n",
    "from IPython.core.interactiveshell import InteractiveShell\n",
    "InteractiveShell.ast_node_interactivity = \"all\""
   ]
  },
  {
   "cell_type": "code",
   "execution_count": null,
   "metadata": {},
   "outputs": [],
   "source": [
    "train = pd.read_csv('E:/谷歌下载/kaggle-nlp/tamil_news_train.csv')\n",
    "test = pd.read_csv('E:/谷歌下载/kaggle-nlp/tamil_news_test.csv')"
   ]
  },
  {
   "cell_type": "code",
   "execution_count": null,
   "metadata": {},
   "outputs": [],
   "source": [
    "train"
   ]
  },
  {
   "cell_type": "code",
   "execution_count": null,
   "metadata": {},
   "outputs": [],
   "source": [
    "test"
   ]
  },
  {
   "cell_type": "code",
   "execution_count": null,
   "metadata": {},
   "outputs": [],
   "source": [
    "np.random.seed(7)\n",
    "train = train.drop_duplicates().reset_index(drop=True)\n",
    "test = test.drop_duplicates().reset_index(drop=True)"
   ]
  },
  {
   "cell_type": "code",
   "execution_count": null,
   "metadata": {},
   "outputs": [],
   "source": [
    "train.NewsInTamil = train.NewsInTamil.str.replace('\\d+', ' ')\n",
    "\n",
    "test.NewsInTamil = test.NewsInTamil.str.replace('\\d+', ' ')"
   ]
  },
  {
   "cell_type": "code",
   "execution_count": 9,
   "metadata": {},
   "outputs": [
    {
     "data": {
      "text/html": [
       "<div>\n",
       "<style scoped>\n",
       "    .dataframe tbody tr th:only-of-type {\n",
       "        vertical-align: middle;\n",
       "    }\n",
       "\n",
       "    .dataframe tbody tr th {\n",
       "        vertical-align: top;\n",
       "    }\n",
       "\n",
       "    .dataframe thead th {\n",
       "        text-align: right;\n",
       "    }\n",
       "</style>\n",
       "<table border=\"1\" class=\"dataframe\">\n",
       "  <thead>\n",
       "    <tr style=\"text-align: right;\">\n",
       "      <th></th>\n",
       "      <th>NewsInEnglish</th>\n",
       "      <th>NewsInTamil</th>\n",
       "      <th>Category</th>\n",
       "      <th>CategoryInTamil</th>\n",
       "    </tr>\n",
       "  </thead>\n",
       "  <tbody>\n",
       "    <tr>\n",
       "      <th>0</th>\n",
       "      <td>2017/May/19941-miss-iraq-competition-after-43-...</td>\n",
       "      <td>ஈராக்கில்   ஆண்டுகள் கழித்து அழகிப்போட்டி</td>\n",
       "      <td>world</td>\n",
       "      <td>உலகம்</td>\n",
       "    </tr>\n",
       "    <tr>\n",
       "      <th>1</th>\n",
       "      <td>2018/Dec/55921-viswasam-s-rustic-folk-song-has...</td>\n",
       "      <td>இந்திய அளவில் ட்ரெண்ட் ஆன அஜித்தின் ‘தள்லே தில...</td>\n",
       "      <td>cinema</td>\n",
       "      <td>சினிமா</td>\n",
       "    </tr>\n",
       "    <tr>\n",
       "      <th>2</th>\n",
       "      <td>2018/Dec/55929-inspector-who-bought-insurance-...</td>\n",
       "      <td>சொந்த செலவில் வாகன காப்பீடு எடுத்து கொடுத்த கா...</td>\n",
       "      <td>tamilnadu</td>\n",
       "      <td>தமிழ்நாடு</td>\n",
       "    </tr>\n",
       "    <tr>\n",
       "      <th>3</th>\n",
       "      <td>2017/Jan/16161-morarji-desai-budget.txt</td>\n",
       "      <td>பிறந்தநாளில் பட்ஜெட் தாக்கல் செய்தவர்</td>\n",
       "      <td>india</td>\n",
       "      <td>இந்தியா</td>\n",
       "    </tr>\n",
       "    <tr>\n",
       "      <th>4</th>\n",
       "      <td>2018/Jun/46476-i-have-not-joined-bjp-or-anyoth...</td>\n",
       "      <td>“நானா? பாஜகவில் இணைந்துவிட்டேனா” - வரலட்சுமி வ...</td>\n",
       "      <td>cinema</td>\n",
       "      <td>சினிமா</td>\n",
       "    </tr>\n",
       "  </tbody>\n",
       "</table>\n",
       "</div>"
      ],
      "text/plain": [
       "                                       NewsInEnglish  \\\n",
       "0  2017/May/19941-miss-iraq-competition-after-43-...   \n",
       "1  2018/Dec/55921-viswasam-s-rustic-folk-song-has...   \n",
       "2  2018/Dec/55929-inspector-who-bought-insurance-...   \n",
       "3            2017/Jan/16161-morarji-desai-budget.txt   \n",
       "4  2018/Jun/46476-i-have-not-joined-bjp-or-anyoth...   \n",
       "\n",
       "                                         NewsInTamil   Category  \\\n",
       "0          ஈராக்கில்   ஆண்டுகள் கழித்து அழகிப்போட்டி      world   \n",
       "1  இந்திய அளவில் ட்ரெண்ட் ஆன அஜித்தின் ‘தள்லே தில...     cinema   \n",
       "2  சொந்த செலவில் வாகன காப்பீடு எடுத்து கொடுத்த கா...  tamilnadu   \n",
       "3              பிறந்தநாளில் பட்ஜெட் தாக்கல் செய்தவர்      india   \n",
       "4  “நானா? பாஜகவில் இணைந்துவிட்டேனா” - வரலட்சுமி வ...     cinema   \n",
       "\n",
       "  CategoryInTamil  \n",
       "0           உலகம்  \n",
       "1          சினிமா  \n",
       "2       தமிழ்நாடு  \n",
       "3         இந்தியா  \n",
       "4          சினிமா  "
      ]
     },
     "execution_count": 9,
     "metadata": {},
     "output_type": "execute_result"
    },
    {
     "data": {
      "text/plain": [
       "(17331, 4)"
      ]
     },
     "execution_count": 9,
     "metadata": {},
     "output_type": "execute_result"
    }
   ],
   "source": [
    "train = train.append(test)\n",
    "df = train\n",
    "df.head()\n",
    "df.shape"
   ]
  },
  {
   "cell_type": "code",
   "execution_count": 10,
   "metadata": {},
   "outputs": [
    {
     "data": {
      "text/plain": [
       "array(['world', 'cinema', 'tamilnadu', 'india', 'politics', 'sports'],\n",
       "      dtype=object)"
      ]
     },
     "execution_count": 10,
     "metadata": {},
     "output_type": "execute_result"
    }
   ],
   "source": [
    "df.Category.unique()"
   ]
  },
  {
   "cell_type": "code",
   "execution_count": 11,
   "metadata": {},
   "outputs": [],
   "source": [
    "df.Category = df.Category.replace('world', 1)\n",
    "df.Category = df.Category.replace('cinema', 2)\n",
    "df.Category = df.Category.replace('tamilnadu', 3)\n",
    "df.Category = df.Category.replace('india', 4)\n",
    "df.Category = df.Category.replace('politics', 5)\n",
    "df.Category = df.Category.replace('sports', 6)"
   ]
  },
  {
   "cell_type": "code",
   "execution_count": 12,
   "metadata": {},
   "outputs": [
    {
     "name": "stdout",
     "output_type": "stream",
     "text": [
      "Found 22904 unique tokens.\n"
     ]
    }
   ],
   "source": [
    "MAX_NB_WORDS = 32000\n",
    "# Max number of words in each complaint.\n",
    "MAX_SEQUENCE_LENGTH = 120\n",
    "# This is fixed.\n",
    "EMBEDDING_DIM = 100\n",
    "tokenizer = Tokenizer(num_words=MAX_NB_WORDS, filters='!\"#$%&()*+,-./:;<=>?@[\\]^_`{|}~', lower=False)\n",
    "tokenizer.fit_on_texts(df.NewsInTamil.values)\n",
    "word_index = tokenizer.word_index\n",
    "print('Found %s unique tokens.' % len(word_index))"
   ]
  },
  {
   "cell_type": "code",
   "execution_count": 13,
   "metadata": {},
   "outputs": [
    {
     "data": {
      "text/plain": [
       "0    1\n",
       "1    2\n",
       "2    3\n",
       "3    4\n",
       "4    2\n",
       "Name: Category, dtype: int64"
      ]
     },
     "execution_count": 13,
     "metadata": {},
     "output_type": "execute_result"
    }
   ],
   "source": [
    "df.Category.head()"
   ]
  },
  {
   "cell_type": "code",
   "execution_count": 14,
   "metadata": {},
   "outputs": [
    {
     "name": "stdout",
     "output_type": "stream",
     "text": [
      "Shape of data tensor: (17331, 120)\n"
     ]
    }
   ],
   "source": [
    "X = tokenizer.texts_to_sequences(df.NewsInTamil.values)\n",
    "X = pad_sequences(X, maxlen=MAX_SEQUENCE_LENGTH)\n",
    "print('Shape of data tensor:', X.shape)"
   ]
  },
  {
   "cell_type": "code",
   "execution_count": 15,
   "metadata": {},
   "outputs": [
    {
     "name": "stdout",
     "output_type": "stream",
     "text": [
      "Shape of label tensor: (17331, 6)\n"
     ]
    }
   ],
   "source": [
    "Y = pd.get_dummies(df.Category).values\n",
    "print('Shape of label tensor:', Y.shape)"
   ]
  },
  {
   "cell_type": "code",
   "execution_count": 16,
   "metadata": {},
   "outputs": [],
   "source": [
    "train_features, test_features, train_labels, test_labels = train_test_split(X, Y, test_size=.10)"
   ]
  },
  {
   "cell_type": "code",
   "execution_count": 17,
   "metadata": {},
   "outputs": [
    {
     "name": "stderr",
     "output_type": "stream",
     "text": [
      "E:\\anada\\envs\\tensorflow\\lib\\site-packages\\tensorflow_core\\python\\framework\\indexed_slices.py:424: UserWarning: Converting sparse IndexedSlices to a dense Tensor of unknown shape. This may consume a large amount of memory.\n",
      "  \"Converting sparse IndexedSlices to a dense Tensor of unknown shape. \"\n"
     ]
    },
    {
     "name": "stdout",
     "output_type": "stream",
     "text": [
      "Train on 12477 samples, validate on 3120 samples\n",
      "Epoch 1/5\n",
      "12477/12477 [==============================] - 91s 7ms/step - loss: 1.2987 - accuracy: 0.5002 - val_loss: 0.8299 - val_accuracy: 0.7151\n",
      "Epoch 2/5\n",
      "12477/12477 [==============================] - 107s 9ms/step - loss: 0.4559 - accuracy: 0.8496 - val_loss: 0.6096 - val_accuracy: 0.7881\n",
      "Epoch 3/5\n",
      "12477/12477 [==============================] - 93s 7ms/step - loss: 0.1506 - accuracy: 0.9541 - val_loss: 0.6831 - val_accuracy: 0.8038\n",
      "Epoch 4/5\n",
      "12477/12477 [==============================] - 85s 7ms/step - loss: 0.0604 - accuracy: 0.9824 - val_loss: 0.7131 - val_accuracy: 0.7946\n",
      "Epoch 5/5\n",
      "12477/12477 [==============================] - 85s 7ms/step - loss: 0.0330 - accuracy: 0.9904 - val_loss: 0.8376 - val_accuracy: 0.7984\n",
      "LSTM Recurrent Neural Network baseline: 0.9956016881154883\n",
      "LSTM Recurrent Neural Network: 0.9547518705741526\n"
     ]
    }
   ],
   "source": [
    "model = Sequential()\n",
    "model.add(Embedding(MAX_NB_WORDS, EMBEDDING_DIM, input_length=X.shape[1]))\n",
    "model.add(SpatialDropout1D(0.2))\n",
    "model.add(LSTM(100, dropout=0.2, recurrent_dropout=0.2))\n",
    "model.add(Dense(6, activation='softmax'))\n",
    "model.compile(loss='categorical_crossentropy', optimizer='adam', metrics=['accuracy'])\n",
    "history = model.fit(train_features, train_labels, epochs=5, batch_size=32,validation_split=0.2)\n",
    "# Final evaluation of the model\n",
    "model_pred_train = model.predict(train_features)\n",
    "model_pred_test = model.predict(test_features)\n",
    "# print(classification_report(test_labels,model_pred_test))\n",
    "print('LSTM Recurrent Neural Network baseline: ' + str(roc_auc_score(train_labels, model_pred_train)))\n",
    "print('LSTM Recurrent Neural Network: ' + str(roc_auc_score(test_labels, model_pred_test)))"
   ]
  },
  {
   "cell_type": "code",
   "execution_count": 19,
   "metadata": {},
   "outputs": [],
   "source": [
    "model.save_weights('tamil_news_classification.h5')"
   ]
  },
  {
   "cell_type": "code",
   "execution_count": 20,
   "metadata": {},
   "outputs": [
    {
     "data": {
      "text/plain": [
       "Text(0.5, 1.0, 'Loss')"
      ]
     },
     "execution_count": 20,
     "metadata": {},
     "output_type": "execute_result"
    },
    {
     "data": {
      "text/plain": [
       "[<matplotlib.lines.Line2D at 0x26e4bb09c18>]"
      ]
     },
     "execution_count": 20,
     "metadata": {},
     "output_type": "execute_result"
    },
    {
     "data": {
      "text/plain": [
       "[<matplotlib.lines.Line2D at 0x26e4bb177f0>]"
      ]
     },
     "execution_count": 20,
     "metadata": {},
     "output_type": "execute_result"
    },
    {
     "data": {
      "text/plain": [
       "<matplotlib.legend.Legend at 0x26e484d1198>"
      ]
     },
     "execution_count": 20,
     "metadata": {},
     "output_type": "execute_result"
    },
    {
     "data": {
      "image/png": "[encoded data removed]",
      "text/plain": [
       "<Figure size 432x288 with 1 Axes>"
      ]
     },
     "metadata": {
      "needs_background": "light"
     },
     "output_type": "display_data"
    },
    {
     "data": {
      "text/plain": [
       "Text(0.5, 1.0, 'Accuracy')"
      ]
     },
     "execution_count": 20,
     "metadata": {},
     "output_type": "execute_result"
    },
    {
     "data": {
      "text/plain": [
       "[<matplotlib.lines.Line2D at 0x26e4bbec860>]"
      ]
     },
     "execution_count": 20,
     "metadata": {},
     "output_type": "execute_result"
    },
    {
     "data": {
      "text/plain": [
       "[<matplotlib.lines.Line2D at 0x26e4bc23a20>]"
      ]
     },
     "execution_count": 20,
     "metadata": {},
     "output_type": "execute_result"
    },
    {
     "data": {
      "text/plain": [
       "<matplotlib.legend.Legend at 0x26e4bc19358>"
      ]
     },
     "execution_count": 20,
     "metadata": {},
     "output_type": "execute_result"
    },
    {
     "data": {
      "image/png": "[encoded data removed]",
      "text/plain": [
       "<Figure size 432x288 with 1 Axes>"
      ]
     },
     "metadata": {
      "needs_background": "light"
     },
     "output_type": "display_data"
    }
   ],
   "source": [
    "plt.title('Loss')\n",
    "plt.plot(history.history['loss'], label='train')\n",
    "plt.plot(history.history['val_loss'], label='test')\n",
    "plt.legend()\n",
    "plt.show()\n",
    "plt.title('Accuracy')\n",
    "plt.plot(history.history['accuracy'], label='train')\n",
    "plt.plot(history.history['val_accuracy'], label='test')\n",
    "plt.legend()\n",
    "plt.show()"
   ]
  },
  {
   "cell_type": "code",
   "execution_count": 21,
   "metadata": {},
   "outputs": [
    {
     "name": "stdout",
     "output_type": "stream",
     "text": [
      "News Category is: \n",
      "tamilnadu\n"
     ]
    }
   ],
   "source": [
    "news = ['இயற்கையை நேசிப்பதுதானே கொண்டாட்டம்.. இது ஒரு புது முயற்சி..!']\n",
    "seq = tokenizer.texts_to_sequences(news)\n",
    "padded = pad_sequences(seq, maxlen=MAX_SEQUENCE_LENGTH)\n",
    "pred = model.predict(padded)\n",
    "labels = ['world', 'cinema', 'tamilnadu', 'india', 'politics', 'sports']\n",
    "label = pred, labels[np.argmax(pred)]\n",
    "print(\"News Category is: \")\n",
    "print(label[1])"
   ]
  },
  {
   "cell_type": "code",
   "execution_count": null,
   "metadata": {},
   "outputs": [],
   "source": []
  }
 ],
 "metadata": {
  "kernelspec": {
   "display_name": "tensorflow",
   "language": "python",
   "name": "tensorflow"
  },
  "language_info": {
   "codemirror_mode": {
    "name": "ipython",
    "version": 3
   },
   "file_extension": ".py",
   "mimetype": "text/x-python",
   "name": "python",
   "nbconvert_exporter": "python",
   "pygments_lexer": "ipython3",
   "version": "3.7.0"
  }
 },
 "nbformat": 4,
 "nbformat_minor": 2
}
